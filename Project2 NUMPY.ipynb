{
 "cells": [
  {
   "cell_type": "code",
   "execution_count": 8,
   "id": "c52edb98",
   "metadata": {},
   "outputs": [
    {
     "name": "stdout",
     "output_type": "stream",
     "text": [
      "creating matrix 5x5:\n",
      "[[0. 0. 0. 0. 0.]\n",
      " [0. 0. 0. 0. 0.]\n",
      " [0. 0. 0. 0. 0.]\n",
      " [0. 0. 0. 0. 0.]\n",
      " [0. 0. 0. 0. 0.]]\n",
      "updating row values ranging from 0 to 4.\n",
      "[[0. 1. 2. 3. 4.]\n",
      " [0. 1. 2. 3. 4.]\n",
      " [0. 1. 2. 3. 4.]\n",
      " [0. 1. 2. 3. 4.]\n",
      " [0. 1. 2. 3. 4.]]\n"
     ]
    }
   ],
   "source": [
    "#Create a 5x5 matrix with row values ranging from 0 to 4\n",
    "\n",
    "\n",
    "import numpy as np\n",
    "\n",
    "matrix = np.zeros((5,5))\n",
    "print(\"creating matrix 5x5:\")\n",
    "print(matrix)\n",
    "print(\"updating row values ranging from 0 to 4.\")\n",
    "matrix += np.arange(5)\n",
    "print(matrix)\n",
    "\n",
    "\n"
   ]
  },
  {
   "cell_type": "code",
   "execution_count": 19,
   "id": "f9703b6f",
   "metadata": {},
   "outputs": [
    {
     "name": "stdout",
     "output_type": "stream",
     "text": [
      "First matrix: \n",
      " [[0.32925886 0.21781875 0.4095749 ]\n",
      " [0.44119642 0.8724831  0.45402368]\n",
      " [0.87861032 0.98696992 0.84015815]\n",
      " [0.28542717 0.24530338 0.75950495]\n",
      " [0.91156493 0.77340495 0.6292721 ]]\n",
      "Second matrix: \n",
      " [[0.91915385 0.60700568]\n",
      " [0.03669241 0.78917596]\n",
      " [0.3232952  0.82537019]]\n",
      "Result of multiplication of x and y: \n",
      " [[0.44304544 0.70981023]\n",
      " [0.58432456 1.33108903]\n",
      " [1.11541145 2.00565587]\n",
      " [0.51689656 0.99371619]\n",
      " [1.06968715 1.68306011]]\n"
     ]
    }
   ],
   "source": [
    "#Multiply a 5x3 matrix by a 3x2 matrix (real matrix product)\n",
    "\n",
    "x = np.random.random((5,3))\n",
    "print(\"First matrix: \\n\", x)\n",
    "\n",
    "y = np.random.random((3,2))\n",
    "print(\"Second matrix: \\n\",y)\n",
    "\n",
    "mult_matrix = np.dot(x, y)\n",
    "print(\"Result of multiplication of x and y: \\n\", mult_matrix)\n",
    "\n",
    "\n",
    "\n",
    "\n",
    "\n",
    "\n"
   ]
  },
  {
   "cell_type": "markdown",
   "id": "5c7021ce",
   "metadata": {},
   "source": [
    "● What is the result of the following expression?\n",
    "● 0 * np.nan  : **nan**\n",
    "● np.nan == np.nan : **false**\n",
    "● np.inf > np.nan  :**false**\n",
    "● np.nan - np.nan  : **nan**\n",
    "● np.nan in set([np.nan])  :**true**\n",
    "● 0.3 == 3 * 0.1 : **false**\n"
   ]
  },
  {
   "cell_type": "code",
   "execution_count": 31,
   "id": "738965a2",
   "metadata": {},
   "outputs": [
    {
     "name": "stdout",
     "output_type": "stream",
     "text": [
      "[[0.38761914 0.49862411 0.5387489  0.04309208 0.6969067  0.79451538\n",
      "  0.77738348 0.93240047 0.46217378 0.3904501 ]\n",
      " [0.8754766  0.57377339 0.0573519  0.50823741 0.22078578 0.41961522\n",
      "  0.90619403 0.50477687 0.96683449 0.51096826]\n",
      " [0.83578737 0.39893002 0.48676294 0.35923803 0.94315685 0.3200654\n",
      "  0.62989582 0.37277361 0.46167155 0.55661573]\n",
      " [0.90226094 0.75755861 0.64115075 0.51323583 0.40855942 0.81281193\n",
      "  0.5643712  0.04554436 0.25732188 0.48548233]\n",
      " [0.0040746  0.17298746 0.43532123 0.45016039 0.17854868 0.91155779\n",
      "  0.27696808 0.58702654 0.13997322 0.38683901]\n",
      " [0.9287668  0.66560589 0.18534662 0.23232483 0.77005313 0.80045508\n",
      "  0.4105304  0.05330363 0.77975999 0.59344868]\n",
      " [0.34375903 0.65175017 0.21261473 0.19684052 0.85795172 0.84948475\n",
      "  0.95834805 0.89173461 0.77604039 0.74708816]\n",
      " [0.79378422 0.5866047  0.68582925 0.33463109 0.74649707 0.74065986\n",
      "  0.26573553 0.30994704 0.44231744 0.97544059]\n",
      " [0.88610428 0.55353449 0.78638872 0.15121    0.57773556 0.85945839\n",
      "  0.30480487 0.46739528 0.65525904 0.61501271]\n",
      " [0.68943547 0.12651567 0.90654179 0.14157747 0.4478727  0.4519793\n",
      "  0.00646503 0.08862417 0.88856804 0.00734436]]\n",
      "The maximum value in array is:  0.9754405892573829\n",
      "The maximum value in array is:  0.004074604341266497\n"
     ]
    }
   ],
   "source": [
    "#Create a 10x10 array with random values and find the minimum and maximum values\n",
    "\n",
    "array=np.random.random((10,10))\n",
    "print (array)\n",
    "\n",
    "\n",
    "max_value=array.max()\n",
    "print(\"The maximum value in array is: \", max_value)\n",
    "\n",
    "min_value=array.min()\n",
    "print(\"The minimum value in array is: \", min_value)\n",
    "\n"
   ]
  },
  {
   "cell_type": "code",
   "execution_count": 36,
   "id": "8497071f",
   "metadata": {},
   "outputs": [
    {
     "name": "stdout",
     "output_type": "stream",
     "text": [
      "[0. 0. 0. 0. 0. 0. 0. 0. 0. 0.]\n",
      "array: [0. 0. 0. 0. 0. 1. 0. 0. 0. 0.]\n"
     ]
    }
   ],
   "source": [
    "#Create a null vector of size 10 but the fifth value which is 1\n",
    "x=np.zeros((10))\n",
    "print(x)\n",
    "\n",
    "x[5]=1\n",
    "\n",
    "print(\"array:\", x)"
   ]
  }
 ],
 "metadata": {
  "kernelspec": {
   "display_name": "Python 3 (ipykernel)",
   "language": "python",
   "name": "python3"
  },
  "language_info": {
   "codemirror_mode": {
    "name": "ipython",
    "version": 3
   },
   "file_extension": ".py",
   "mimetype": "text/x-python",
   "name": "python",
   "nbconvert_exporter": "python",
   "pygments_lexer": "ipython3",
   "version": "3.9.13"
  }
 },
 "nbformat": 4,
 "nbformat_minor": 5
}
